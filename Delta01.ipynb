{
 "cells": [
  {
   "cell_type": "markdown",
   "id": "d7c6e178",
   "metadata": {},
   "source": [
    "Phase 1: Data Understanding and Preprocessing for Federated Learning\n",
    "Step 1: Initial Setup and Environment Check"
   ]
  },
  {
   "cell_type": "code",
   "execution_count": 3,
   "id": "75ba0a4d",
   "metadata": {},
   "outputs": [
    {
     "name": "stdout",
     "output_type": "stream",
     "text": [
      "Requirement already satisfied: pandas in /Users/sathwik/.conda/envs/pythonProject/lib/python3.10/site-packages (2.2.3)\n",
      "Requirement already satisfied: numpy in /Users/sathwik/.conda/envs/pythonProject/lib/python3.10/site-packages (2.2.4)\n",
      "Requirement already satisfied: matplotlib in /Users/sathwik/.conda/envs/pythonProject/lib/python3.10/site-packages (3.10.1)\n",
      "Collecting seaborn\n",
      "  Downloading seaborn-0.13.2-py3-none-any.whl (294 kB)\n",
      "\u001b[2K     \u001b[90m━━━━━━━━━━━━━━━━━━━━━━━━━━━━━━━━━━━━━━━\u001b[0m \u001b[32m294.9/294.9 kB\u001b[0m \u001b[31m5.5 MB/s\u001b[0m eta \u001b[36m0:00:00\u001b[0ma \u001b[36m0:00:01\u001b[0m\n",
      "\u001b[?25hRequirement already satisfied: python-dateutil>=2.8.2 in /Users/sathwik/.conda/envs/pythonProject/lib/python3.10/site-packages (from pandas) (2.9.0.post0)\n",
      "Requirement already satisfied: tzdata>=2022.7 in /Users/sathwik/.conda/envs/pythonProject/lib/python3.10/site-packages (from pandas) (2025.2)\n",
      "Requirement already satisfied: pytz>=2020.1 in /Users/sathwik/.conda/envs/pythonProject/lib/python3.10/site-packages (from pandas) (2025.2)\n",
      "Requirement already satisfied: cycler>=0.10 in /Users/sathwik/.conda/envs/pythonProject/lib/python3.10/site-packages (from matplotlib) (0.12.1)\n",
      "Requirement already satisfied: pyparsing>=2.3.1 in /Users/sathwik/.conda/envs/pythonProject/lib/python3.10/site-packages (from matplotlib) (3.2.3)\n",
      "Requirement already satisfied: kiwisolver>=1.3.1 in /Users/sathwik/.conda/envs/pythonProject/lib/python3.10/site-packages (from matplotlib) (1.4.8)\n",
      "Requirement already satisfied: contourpy>=1.0.1 in /Users/sathwik/.conda/envs/pythonProject/lib/python3.10/site-packages (from matplotlib) (1.3.1)\n",
      "Requirement already satisfied: pillow>=8 in /Users/sathwik/.conda/envs/pythonProject/lib/python3.10/site-packages (from matplotlib) (11.1.0)\n",
      "Requirement already satisfied: fonttools>=4.22.0 in /Users/sathwik/.conda/envs/pythonProject/lib/python3.10/site-packages (from matplotlib) (4.56.0)\n",
      "Requirement already satisfied: packaging>=20.0 in /Users/sathwik/.conda/envs/pythonProject/lib/python3.10/site-packages (from matplotlib) (24.2)\n",
      "Requirement already satisfied: six>=1.5 in /Users/sathwik/.conda/envs/pythonProject/lib/python3.10/site-packages (from python-dateutil>=2.8.2->pandas) (1.17.0)\n",
      "Installing collected packages: seaborn\n",
      "Successfully installed seaborn-0.13.2\n",
      "Requirement already satisfied: pyarrow in /Users/sathwik/.conda/envs/pythonProject/lib/python3.10/site-packages (19.0.1)\n",
      "Requirement already satisfied: fastparquet in /Users/sathwik/.conda/envs/pythonProject/lib/python3.10/site-packages (2024.11.0)\n",
      "Requirement already satisfied: packaging in /Users/sathwik/.conda/envs/pythonProject/lib/python3.10/site-packages (from fastparquet) (24.2)\n",
      "Requirement already satisfied: cramjam>=2.3 in /Users/sathwik/.conda/envs/pythonProject/lib/python3.10/site-packages (from fastparquet) (2.10.0)\n",
      "Requirement already satisfied: pandas>=1.5.0 in /Users/sathwik/.conda/envs/pythonProject/lib/python3.10/site-packages (from fastparquet) (2.2.3)\n",
      "Requirement already satisfied: fsspec in /Users/sathwik/.conda/envs/pythonProject/lib/python3.10/site-packages (from fastparquet) (2024.12.0)\n",
      "Requirement already satisfied: numpy in /Users/sathwik/.conda/envs/pythonProject/lib/python3.10/site-packages (from fastparquet) (2.2.4)\n",
      "Requirement already satisfied: pytz>=2020.1 in /Users/sathwik/.conda/envs/pythonProject/lib/python3.10/site-packages (from pandas>=1.5.0->fastparquet) (2025.2)\n",
      "Requirement already satisfied: tzdata>=2022.7 in /Users/sathwik/.conda/envs/pythonProject/lib/python3.10/site-packages (from pandas>=1.5.0->fastparquet) (2025.2)\n",
      "Requirement already satisfied: python-dateutil>=2.8.2 in /Users/sathwik/.conda/envs/pythonProject/lib/python3.10/site-packages (from pandas>=1.5.0->fastparquet) (2.9.0.post0)\n",
      "Requirement already satisfied: six>=1.5 in /Users/sathwik/.conda/envs/pythonProject/lib/python3.10/site-packages (from python-dateutil>=2.8.2->pandas>=1.5.0->fastparquet) (1.17.0)\n",
      "zsh:1: no matches found: dask[dataframe]\n"
     ]
    }
   ],
   "source": [
    "!pip install pandas numpy matplotlib seaborn\n",
    "!pip install pyarrow fastparquet  # For efficient Parquet storage\n",
    "!pip install dask[dataframe]      # Optional, but useful for very large out-of-core ops"
   ]
  },
  {
   "cell_type": "markdown",
   "id": "949bcace",
   "metadata": {},
   "source": [
    "Step 2: Data Exploration and Path Validation\n",
    "Now, let's confirm your dataset path and get a sense of the files.\n",
    "\n",
    "Confirm the dataset path:\n",
    "Your dataset is located at /Users/sathwik/VISUAL STUDIO CODE/Cloud:Fog/aws data/cpu. We need to ensure Python can access this. The colon in the path might cause issues with some shells or tools, but typically pathlib in Python handles it well.\n",
    "\n",
    "List Subfolders and Sample Files:\n",
    "Let's write a small Python script to list the subfolders and see a few file names inside one of them. This helps us confirm the structure.\n",
    "\n",
    "Create a new Python file (e.g., data_explorer.py) and add the following code:"
   ]
  },
  {
   "cell_type": "code",
   "execution_count": null,
   "id": "957189b4",
   "metadata": {},
   "outputs": [],
   "source": []
  }
 ],
 "metadata": {
  "kernelspec": {
   "display_name": "pythonProject",
   "language": "python",
   "name": "python3"
  },
  "language_info": {
   "codemirror_mode": {
    "name": "ipython",
    "version": 3
   },
   "file_extension": ".py",
   "mimetype": "text/x-python",
   "name": "python",
   "nbconvert_exporter": "python",
   "pygments_lexer": "ipython3",
   "version": "3.10.5"
  }
 },
 "nbformat": 4,
 "nbformat_minor": 5
}
